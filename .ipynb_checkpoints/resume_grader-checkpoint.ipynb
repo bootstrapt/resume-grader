{
 "cells": [
  {
   "cell_type": "markdown",
   "id": "e743ad52-e267-431a-b700-da257db48cd7",
   "metadata": {},
   "source": [
    "## Resume Grader Notebook\n",
    "Are you having trouble getting through applicant tracking systems? This notebook enables you to use AI to score a resume and provides feedback including matching keywords, missing keywords, suggested updates, and some final thoughts. \n",
    "\n",
    "### Prerequisites\n",
    "Requires Open AI API key\n",
    "\n",
    "### Setup\n",
    "- copy your resume text into the `resume` variable below\n",
    "- copy the job description text into the `job_description` variable below\n",
    "- use a general version of the job title you're applying for in the `job_title` variable below\n",
    "\n",
    "### Usage\n",
    "Run all the cells once the inputs have been entered, enter your Open AI API key if it's not already set as an environment variable\n",
    "\n",
    "### References\n",
    "- https://github.com/vbarda/pandas-rag-langgraph/blob/main/demo.ipynb  \n",
    "- https://medium.com/@palbhanazwale/create-your-personal-ats-calculator-in-10-mins-e28451fca504"
   ]
  },
  {
   "cell_type": "code",
   "execution_count": null,
   "id": "9bb6bcf7-e1b2-4122-9272-df5201aeec86",
   "metadata": {},
   "outputs": [],
   "source": [
    "import getpass\n",
    "import os\n",
    "\n",
    "if \"OPENAI_API_KEY\" not in os.environ:\n",
    "    os.environ[\"OPENAI_API_KEY\"] = getpass.getpass(\"Enter your OpenAI API key: \")"
   ]
  },
  {
   "cell_type": "code",
   "execution_count": null,
   "id": "dab4616e-c555-48d0-8f14-38842cbc5d30",
   "metadata": {},
   "outputs": [],
   "source": [
    "resume = \"\"\"\n",
    "\"\"\""
   ]
  },
  {
   "cell_type": "code",
   "execution_count": null,
   "id": "78d42119-f471-4a46-9d10-575cd62135e1",
   "metadata": {},
   "outputs": [],
   "source": [
    "job_title = \"\"\n",
    "job_description = \"\"\"\n",
    "\"\"\""
   ]
  },
  {
   "cell_type": "code",
   "execution_count": null,
   "id": "1a8aef5b-06a1-4f7e-8a83-40727ded82c1",
   "metadata": {},
   "outputs": [],
   "source": [
    "from langchain_core.prompts import ChatPromptTemplate\n",
    "from langchain_core.pydantic_v1 import BaseModel, Field\n",
    "from langchain_openai import ChatOpenAI\n",
    "from pprint import pprint\n",
    "\n",
    "# Pydantic data model\n",
    "class GradeResume(BaseModel):\n",
    "    \"\"\"Binary score for relevance check on retrieved documents.\"\"\"\n",
    "\n",
    "    percentage_score: float = Field(\n",
    "        description=\"the percentage of match between the resume and the job description\"\n",
    "    )\n",
    "\n",
    "    review: str = Field(\n",
    "        description=\"keywords matching, keywords missing, specific changes for resume to reach matching percentage of above 85 and lastly your final thoughts\"\n",
    "    )\n",
    "\n",
    "\n",
    "llm = ChatOpenAI(model_name=\"gpt-4o-mini\", temperature=0)\n",
    "structured_llm_grader = llm.with_structured_output(GradeResume)\n",
    "\n",
    "system = \"\"\"\n",
    "    You are an skilled ATS (Applicant Tracking System) scanner with a deep understanding in the field of {job_title},\n",
    "    your task is to evaluate the resume against the provided job description. You should output first the percentage of match between the resume and\n",
    "    the job description, followed by keywords matching, keywords missing, specific changes for resume to reach matching percentage\n",
    "    of above 85 and lastly your final thoughts.\n",
    "    \n",
    "    \"\"\"\n",
    "\n",
    "grade_prompt = ChatPromptTemplate.from_messages(\n",
    "    [\n",
    "        (\"system\", system),\n",
    "        (\"human\", \"Resume: \\n\\n {resume} \\n\\n Job Title: \\n\\n {job_title} \\n\\n Job Description: \\n\\n {job_description}\"),\n",
    "    ]\n",
    ")\n",
    "\n",
    "retrieval_grader = grade_prompt | structured_llm_grader\n",
    "response = retrieval_grader.invoke({\"resume\": resume, \"job_description\": job_description, \"job_title\": job_title})\n",
    "\n",
    "pprint(response.percentage_score)\n",
    "pprint(response.review)"
   ]
  }
 ],
 "metadata": {
  "kernelspec": {
   "display_name": "Python 3 (ipykernel)",
   "language": "python",
   "name": "python3"
  },
  "language_info": {
   "codemirror_mode": {
    "name": "ipython",
    "version": 3
   },
   "file_extension": ".py",
   "mimetype": "text/x-python",
   "name": "python",
   "nbconvert_exporter": "python",
   "pygments_lexer": "ipython3",
   "version": "3.12.5"
  }
 },
 "nbformat": 4,
 "nbformat_minor": 5
}
